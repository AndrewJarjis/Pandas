{
 "cells": [
  {
   "cell_type": "code",
   "execution_count": null,
   "id": "4468f428",
   "metadata": {},
   "outputs": [],
   "source": []
  },
  {
   "cell_type": "code",
   "execution_count": 2,
   "id": "5b47c638",
   "metadata": {},
   "outputs": [],
   "source": [
    "import pandas as pd"
   ]
  },
  {
   "cell_type": "code",
   "execution_count": 3,
   "id": "0d5fa0b9",
   "metadata": {},
   "outputs": [
    {
     "name": "stdout",
     "output_type": "stream",
     "text": [
      "Wall time: 206 ms\n"
     ]
    }
   ],
   "source": [
    "%time df = pd.read_parquet('wta_matches_2022.parquet')"
   ]
  },
  {
   "cell_type": "code",
   "execution_count": 4,
   "id": "55c00031",
   "metadata": {},
   "outputs": [
    {
     "name": "stdout",
     "output_type": "stream",
     "text": [
      "Wall time: 1.79 s\n"
     ]
    }
   ],
   "source": [
    "%time df = pd.read_excel('wta_matches_2022.xlsx')"
   ]
  },
  {
   "cell_type": "code",
   "execution_count": 5,
   "id": "25bb75d5",
   "metadata": {},
   "outputs": [
    {
     "name": "stdout",
     "output_type": "stream",
     "text": [
      "Wall time: 27 ms\n"
     ]
    }
   ],
   "source": [
    "%time df = pd.read_csv('wta_matches_2022.csv')"
   ]
  },
  {
   "cell_type": "code",
   "execution_count": 6,
   "id": "dee4eba3",
   "metadata": {},
   "outputs": [],
   "source": [
    "df = pd.read_excel('wta_matches_2022.xlsx')"
   ]
  },
  {
   "cell_type": "code",
   "execution_count": null,
   "id": "56d27e5a",
   "metadata": {},
   "outputs": [],
   "source": [
    "df.head()"
   ]
  },
  {
   "cell_type": "code",
   "execution_count": null,
   "id": "7137ed14",
   "metadata": {},
   "outputs": [],
   "source": [
    "df = pd.read_csv('wta_matches_2022.csv')"
   ]
  },
  {
   "cell_type": "code",
   "execution_count": null,
   "id": "c7d4c97a",
   "metadata": {},
   "outputs": [],
   "source": [
    "df.head()"
   ]
  },
  {
   "cell_type": "code",
   "execution_count": null,
   "id": "e3065d37",
   "metadata": {},
   "outputs": [],
   "source": [
    "df = pd.read_csv('wta_matches_2022.tsv')"
   ]
  },
  {
   "cell_type": "code",
   "execution_count": null,
   "id": "f4f3f60e",
   "metadata": {},
   "outputs": [],
   "source": [
    "df.head()"
   ]
  },
  {
   "cell_type": "code",
   "execution_count": null,
   "id": "f9848765",
   "metadata": {},
   "outputs": [],
   "source": [
    "df = pd.read_excel('wta_matches_2022.xlsx')"
   ]
  },
  {
   "cell_type": "code",
   "execution_count": null,
   "id": "4648f0d8",
   "metadata": {},
   "outputs": [],
   "source": [
    "df.tail()"
   ]
  },
  {
   "cell_type": "code",
   "execution_count": null,
   "id": "ca22c65a",
   "metadata": {},
   "outputs": [],
   "source": [
    "df = pd.read_parquet('wta_matches_2022.parquet')\n",
    "df_desc = df.describe()"
   ]
  },
  {
   "cell_type": "code",
   "execution_count": null,
   "id": "661075a2",
   "metadata": {},
   "outputs": [],
   "source": [
    "print(df_desc)"
   ]
  },
  {
   "cell_type": "code",
   "execution_count": null,
   "id": "3fefce48",
   "metadata": {},
   "outputs": [],
   "source": []
  }
 ],
 "metadata": {
  "kernelspec": {
   "display_name": "Python 3 (ipykernel)",
   "language": "python",
   "name": "python3"
  },
  "language_info": {
   "codemirror_mode": {
    "name": "ipython",
    "version": 3
   },
   "file_extension": ".py",
   "mimetype": "text/x-python",
   "name": "python",
   "nbconvert_exporter": "python",
   "pygments_lexer": "ipython3",
   "version": "3.9.13"
  }
 },
 "nbformat": 4,
 "nbformat_minor": 5
}
